{
 "cells": [
  {
   "cell_type": "code",
   "execution_count": null,
   "id": "1e906635-be24-460b-846b-63f06022a1b8",
   "metadata": {},
   "outputs": [],
   "source": [
    "import pandas as pd \n",
    "import seaborn as sns\n",
    "import numpy as np\n",
    "import matplotlib.pyplot as plt\n",
    "from sklearn import tree\n",
    "from sklearn.model_selection import train_test_split\n",
    "from sklearn.tree import DecisionTreeRegressor\n",
    "from sklearn.linear_model import LinearRegression as lr\n",
    "from sklearn.metrics import mean_squared_error\n",
    "from sklearn.ensemble import RandomForestRegressor\n",
    "import joblib\n",
    "import streamlit as st\n",
    "\n",
    "\n"
   ]
  },
  {
   "cell_type": "code",
   "execution_count": null,
   "id": "c8d4654c-0938-4593-8d8b-2a4153461fea",
   "metadata": {},
   "outputs": [],
   "source": [
    "merged_logs = pd.read_csv('./Cleaned_nba_data.csv')"
   ]
  },
  {
   "cell_type": "code",
   "execution_count": null,
   "id": "091c545c-208c-4d47-846a-79ad3bb2a56a",
   "metadata": {
    "scrolled": true
   },
   "outputs": [],
   "source": [
    "merged_logs.columns"
   ]
  },
  {
   "cell_type": "markdown",
   "id": "8e5cf660-62ca-4931-b6b2-bd0220e7786c",
   "metadata": {},
   "source": [
    "# Feature engineering "
   ]
  },
  {
   "cell_type": "markdown",
   "id": "c4e7b510-3bad-4f15-98de-448489436f71",
   "metadata": {},
   "source": [
    "### Creating IS_HOME column"
   ]
  },
  {
   "cell_type": "code",
   "execution_count": null,
   "id": "3cd7f91c-f613-43c6-8147-a47b142c29b5",
   "metadata": {},
   "outputs": [],
   "source": [
    "merged_logs['IS_HOME'] = merged_logs['MATCHUP'].apply(lambda x: 0 if '@' in x else 1)\n"
   ]
  },
  {
   "cell_type": "code",
   "execution_count": null,
   "id": "26ad9c48-2a16-4305-bee8-c503534dd062",
   "metadata": {},
   "outputs": [],
   "source": [
    "#rolling_sum\n",
    "merged_logs['PTS_rolling_sum']= merged_logs.groupby('PLAYER_NAME')['PTS'].transform(\n",
    "    lambda x: x.shift().rolling(10, min_periods=1).sum()\n",
    ")\n"
   ]
  },
  {
   "cell_type": "code",
   "execution_count": null,
   "id": "92a875ae-5996-4327-9465-ae75314029ef",
   "metadata": {},
   "outputs": [],
   "source": [
    "#rolling_std\n",
    "merged_logs['PTS_rolling_std']= merged_logs.groupby('PLAYER_NAME')['PTS'].transform(\n",
    "    lambda x: x.shift().rolling(10, min_periods=1).std()\n",
    ")\n"
   ]
  },
  {
   "cell_type": "markdown",
   "id": "a8b4d447-be5d-4bb3-aec0-8c2ffdec3905",
   "metadata": {},
   "source": [
    "### Selecting Features "
   ]
  },
  {
   "cell_type": "code",
   "execution_count": null,
   "id": "c302177e-7376-4939-9092-f0371ba097f3",
   "metadata": {},
   "outputs": [],
   "source": [
    "features = ['MIN','PASS','TCHS','FG3M','FG3A','STL','NBA_FANTASY_PTS_RANK','PTS', 'PTS_RANK', 'WNBA_FANTASY_PTS_RANK']\n",
    "target = ['PTS']\n",
    "features.append('IS_HOME')\n",
    "features.append('PTS_rolling_std')\n",
    "features.append('PTS_rolling_sum')"
   ]
  },
  {
   "cell_type": "code",
   "execution_count": null,
   "id": "19c2c0d7-8d04-415f-8e5f-b17623d504ec",
   "metadata": {},
   "outputs": [],
   "source": [
    "#sorted by player_names\n",
    "merged_logs = merged_logs.sort_values(['PLAYER_NAME', 'GAME_DATE'])\n",
    "#creates columns with the ending rolling and creates rolling average for each feature\n",
    "for col in features:\n",
    "    merged_logs[f'{col}_rolling'] = (\n",
    "        merged_logs.groupby('PLAYER_NAME')[col]\n",
    "        .transform(lambda x: x.shift().rolling(10, min_periods=1).mean())\n",
    "    )"
   ]
  },
  {
   "cell_type": "code",
   "execution_count": null,
   "id": "6e975db6-7651-4a6b-8dc8-5064b753c2c4",
   "metadata": {
    "scrolled": true
   },
   "outputs": [],
   "source": [
    "merged_logs[merged_logs['PLAYER_NAME'].str.contains('LeBron')][['PLAYER_NAME','GAME_DATE','MIN','MIN_rolling','FG3M','FG3M_rolling']]"
   ]
  },
  {
   "cell_type": "markdown",
   "id": "c97bebf6-7bdf-4b23-99cf-0cbaa8e242ff",
   "metadata": {},
   "source": [
    "### Selecting rolling features"
   ]
  },
  {
   "cell_type": "code",
   "execution_count": null,
   "id": "47c5a73e-3fac-4c3a-bde2-55bba80135c1",
   "metadata": {},
   "outputs": [],
   "source": [
    "\n",
    "rolling_features = list(col+'_rolling' for col in features )\n",
    "rolling_features.extend(['IS_HOME', 'PTS_rolling_std'])\n",
    "merged_logs[merged_logs['PLAYER_NAME'].str.contains('Stephen')]['PTS'].mean()"
   ]
  },
  {
   "cell_type": "code",
   "execution_count": null,
   "id": "59ad1d80-1d46-4e31-a138-0d117de0b04c",
   "metadata": {},
   "outputs": [],
   "source": [
    "merged_logs[merged_logs['PLAYER_NAME'].str.contains('LeBron')][['GAME_DATE', 'PTS', 'PTS_rolling_std']]"
   ]
  },
  {
   "cell_type": "code",
   "execution_count": null,
   "id": "fd0b0b8c-a7bf-4b9b-8e42-0b913ddb2642",
   "metadata": {},
   "outputs": [],
   "source": [
    "# visualize \n",
    "lebron_data = merged_logs[merged_logs['PLAYER_NAME'].str.contains('LeBron')][['GAME_DATE', 'PTS', 'PTS_rolling_std']]\n",
    "lebron_data['GAME_DATE'] = pd.to_datetime(lebron_data['GAME_DATE'])\n",
    "\n",
    "\n",
    "plt.figure(figsize=(12, 6))\n",
    "\n",
    "plt.hist(lebron_data['PTS_rolling_std'], bins=10, label='Volatility (STD)')\n",
    "plt.xlabel('Volatility (Standard Deviation)')\n",
    "plt.ylabel('Frequency')\n",
    "plt.title('LeBron’s Scoring Volatility Distribution')\n",
    "plt.legend()\n",
    "plt.show()"
   ]
  },
  {
   "cell_type": "markdown",
   "id": "abd37be7-49a7-4bbe-a0b6-06de554e3584",
   "metadata": {},
   "source": [
    "### Dropping null values and splitting the data set"
   ]
  },
  {
   "cell_type": "code",
   "execution_count": null,
   "id": "08247bbc-3dca-47a8-8cf8-39ec3dd267e2",
   "metadata": {},
   "outputs": [],
   "source": [
    "merged_logs = merged_logs.dropna(subset= rolling_features)\n",
    "\n",
    "X = merged_logs[rolling_features]\n",
    "y = merged_logs['PTS']\n",
    "X_train, X_test, y_train, y_test = train_test_split(X, y, test_size=0.2, random_state=1\n",
    ")\n"
   ]
  },
  {
   "cell_type": "markdown",
   "id": "5ebd9b00-e527-45d0-a7d3-116ea60c66d4",
   "metadata": {},
   "source": [
    "# Linear Regression"
   ]
  },
  {
   "cell_type": "markdown",
   "id": "96a0c7f2-d510-4b5d-a857-6693b6164486",
   "metadata": {},
   "source": [
    "### Baseline Model to get a first rmse and to analyze coeffs "
   ]
  },
  {
   "cell_type": "code",
   "execution_count": null,
   "id": "34d6a25f-e2b9-464b-86b6-b07d93ad7f24",
   "metadata": {},
   "outputs": [],
   "source": [
    "\n",
    "lin_reg = lr()\n",
    "lin_reg.fit(X_train, y_train)\n",
    "y_pred = lin_reg.predict(X_test)"
   ]
  },
  {
   "cell_type": "code",
   "execution_count": null,
   "id": "2df1f33b-705a-468a-b43d-211efe799a7f",
   "metadata": {},
   "outputs": [],
   "source": [
    "lin_rmse = mean_squared_error(y_test, y_pred) **0.5"
   ]
  },
  {
   "cell_type": "code",
   "execution_count": null,
   "id": "cbd76723-8a15-427f-95ce-7d448e0fe082",
   "metadata": {},
   "outputs": [],
   "source": [
    "lin_rmse"
   ]
  },
  {
   "cell_type": "code",
   "execution_count": null,
   "id": "ba333885-6afa-4888-b3c1-7acc15c06992",
   "metadata": {},
   "outputs": [],
   "source": [
    "lin_coef = lin_reg.coef_\n",
    "lin_coef_1 ={\n",
    "    'coef' : lin_reg.coef_,\n",
    "    'columns' : X_train.columns  \n",
    "}\n",
    "lin_df = pd.DataFrame(lin_coef_1)\n",
    "lin_df.sort_values('coef')"
   ]
  },
  {
   "cell_type": "markdown",
   "id": "cf7844ba-daac-4e82-9b52-494f7782748d",
   "metadata": {},
   "source": [
    "# Decision Tree"
   ]
  },
  {
   "cell_type": "markdown",
   "id": "5b8a615f-9616-4274-894e-918ea66af9bd",
   "metadata": {},
   "source": [
    "### The chosen model is slightly better and by plotting the tree we can clearly interpret the model"
   ]
  },
  {
   "cell_type": "code",
   "execution_count": null,
   "id": "12bfefc6-6018-48c8-8857-a39ef4c83736",
   "metadata": {},
   "outputs": [],
   "source": [
    "\n",
    "dt = DecisionTreeRegressor(max_depth=3, random_state=5)\n",
    "dt.fit(X_train, y_train)\n",
    "dt_pred = dt.predict(X_test)\n",
    "dt_rmse = mean_squared_error(y_test, dt_pred) ** 0.5\n",
    "\n",
    "plt.figure(figsize=(20, 10))\n",
    "tree.plot_tree(dt, feature_names=X_train.columns, filled=True, rounded=True)\n",
    "plt.title(\"Decision Tree Structure\")\n",
    "plt.show()\n"
   ]
  },
  {
   "cell_type": "code",
   "execution_count": null,
   "id": "06bd0b44-fde8-449b-9f9c-0549ca06a7cc",
   "metadata": {},
   "outputs": [],
   "source": [
    "\n",
    "meansq_er = mean_squared_error(y_test, y_pred, sample_weight=None, multioutput='uniform_average')**0.5\n",
    "meansq_er"
   ]
  },
  {
   "cell_type": "code",
   "execution_count": null,
   "id": "67cc1720-55d8-42a6-87e5-218379a22761",
   "metadata": {},
   "outputs": [],
   "source": [
    "y_pred = model.predict(X_test)\n",
    "print(y_pred[:10])"
   ]
  },
  {
   "cell_type": "code",
   "execution_count": null,
   "id": "2eb122c5-640f-4f7e-a049-d6b2ff0d65f5",
   "metadata": {},
   "outputs": [],
   "source": [
    "import joblib\n",
    "joblib.dump(dt, 'model.pkl')"
   ]
  },
  {
   "cell_type": "code",
   "execution_count": null,
   "id": "dedc0083-ca16-4596-bd63-b3a194414a98",
   "metadata": {},
   "outputs": [],
   "source": [
    "#Saving the model \n",
    "\n",
    "joblib.dump(dt, 'decision_tree_model.pkl')"
   ]
  },
  {
   "cell_type": "code",
   "execution_count": null,
   "id": "0334633a-b562-430c-85a5-aeca8beee8fb",
   "metadata": {},
   "outputs": [],
   "source": [
    "result_df = pd.DataFrame({'actual': y_test, 'predicted': y_pred})\n",
    "result = result_df.join(merged_logs[['GAME_DATE', 'PLAYER_NAME']])\n",
    "result['high_difference'] = result['actual'] - result['predicted']\n",
    "result.sort_values('high_difference', ascending = False)"
   ]
  },
  {
   "cell_type": "markdown",
   "id": "e765d5e9-e401-4034-b3cf-fe0b70de7310",
   "metadata": {},
   "source": [
    "## Random Forest"
   ]
  },
  {
   "cell_type": "markdown",
   "id": "8c638a95-e5a8-4fcf-8b04-b9bef75caabe",
   "metadata": {},
   "source": [
    "### This model has a less practical result, so it is just for testing."
   ]
  },
  {
   "cell_type": "code",
   "execution_count": null,
   "id": "85596e8a-d5de-4de4-bbfb-ef79c0672500",
   "metadata": {},
   "outputs": [],
   "source": [
    "#RandomForest\n",
    "rf = RandomForestRegressor(n_estimators=100,n_jobs=-1, random_state=1)\n",
    "rf.fit(X_train, y_train)\n",
    "rf_pred = rf.predict(X_test)\n",
    "\n",
    "from sklearn.metrics import mean_squared_error\n",
    "rf_rmse = mean_squared_error(y_test, rf_pred) ** 0.5\n",
    "print(\"Random Forest RMSE:\", rf_rmse)"
   ]
  },
  {
   "cell_type": "code",
   "execution_count": null,
   "id": "910c7788-92cf-4540-b08e-52aefba934a0",
   "metadata": {},
   "outputs": [],
   "source": [
    "\n",
    "importances = pd.Series(rf.feature_importances_, index=X.columns)\n",
    "importances.sort_values().plot(kind='barh', figsize=(8, 6), title='Feature Importances')"
   ]
  },
  {
   "cell_type": "code",
   "execution_count": null,
   "id": "fb986d52-62c5-471a-8b56-a5295f914401",
   "metadata": {},
   "outputs": [],
   "source": [
    "result = pd.DataFrame({'actual': y_test, 'predicted': y_pred})\n",
    "result['difference'] = result['actual'] - result['predicted']\n",
    "result = result.join(merged_logs[['PLAYER_NAME', 'GAME_DATE']], how='left')\n",
    "result.sort_values('difference', ascending=False)"
   ]
  },
  {
   "cell_type": "code",
   "execution_count": null,
   "id": "8d731f02-5a26-4c54-9ba2-35b376e9a179",
   "metadata": {},
   "outputs": [],
   "source": [
    "merged_logs[rolling_features].columns\n",
    "\n"
   ]
  },
  {
   "cell_type": "code",
   "execution_count": null,
   "id": "05ae1afb-d88b-4c6b-b599-af0f89a9739a",
   "metadata": {},
   "outputs": [],
   "source": [
    "y_train.mean()"
   ]
  }
 ],
 "metadata": {
  "kernelspec": {
   "display_name": "Python 3 (ipykernel)",
   "language": "python",
   "name": "python3"
  },
  "language_info": {
   "codemirror_mode": {
    "name": "ipython",
    "version": 3
   },
   "file_extension": ".py",
   "mimetype": "text/x-python",
   "name": "python",
   "nbconvert_exporter": "python",
   "pygments_lexer": "ipython3",
   "version": "3.13.0"
  }
 },
 "nbformat": 4,
 "nbformat_minor": 5
}
